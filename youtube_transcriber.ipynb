{
  "nbformat": 4,
  "nbformat_minor": 0,
  "metadata": {
    "colab": {
      "provenance": [],
      "authorship_tag": "ABX9TyOg+aMZsAVtdeSUhQUHhlEj",
      "include_colab_link": true
    },
    "kernelspec": {
      "name": "python3",
      "display_name": "Python 3"
    },
    "language_info": {
      "name": "python"
    }
  },
  "cells": [
    {
      "cell_type": "markdown",
      "metadata": {
        "id": "view-in-github",
        "colab_type": "text"
      },
      "source": [
        "<a href=\"https://colab.research.google.com/github/Pavan-Gandham/ML-AI/blob/master/youtube_transcriber.ipynb\" target=\"_parent\"><img src=\"https://colab.research.google.com/assets/colab-badge.svg\" alt=\"Open In Colab\"/></a>"
      ]
    },
    {
      "cell_type": "code",
      "execution_count": null,
      "metadata": {
        "colab": {
          "base_uri": "https://localhost:8080/"
        },
        "id": "LOMSfxO0NuTe",
        "outputId": "5fed7f71-d701-42a7-c097-3d72dc270230"
      },
      "outputs": [
        {
          "output_type": "stream",
          "name": "stdout",
          "text": [
            "Collecting youtube_transcript_api\n",
            "  Downloading youtube_transcript_api-0.6.2-py3-none-any.whl (24 kB)\n",
            "Collecting pyttsx3\n",
            "  Downloading pyttsx3-2.90-py3-none-any.whl (39 kB)\n",
            "Requirement already satisfied: requests in /usr/local/lib/python3.10/dist-packages (from youtube_transcript_api) (2.31.0)\n",
            "Requirement already satisfied: charset-normalizer<4,>=2 in /usr/local/lib/python3.10/dist-packages (from requests->youtube_transcript_api) (3.3.2)\n",
            "Requirement already satisfied: idna<4,>=2.5 in /usr/local/lib/python3.10/dist-packages (from requests->youtube_transcript_api) (3.6)\n",
            "Requirement already satisfied: urllib3<3,>=1.21.1 in /usr/local/lib/python3.10/dist-packages (from requests->youtube_transcript_api) (2.0.7)\n",
            "Requirement already satisfied: certifi>=2017.4.17 in /usr/local/lib/python3.10/dist-packages (from requests->youtube_transcript_api) (2023.11.17)\n",
            "Installing collected packages: pyttsx3, youtube_transcript_api\n",
            "Successfully installed pyttsx3-2.90 youtube_transcript_api-0.6.2\n"
          ]
        }
      ],
      "source": [
        "pip install youtube_transcript_api pyttsx3\n"
      ]
    },
    {
      "cell_type": "code",
      "source": [
        "pip install autocorrect"
      ],
      "metadata": {
        "colab": {
          "base_uri": "https://localhost:8080/"
        },
        "id": "Tee2YDO4smxt",
        "outputId": "fcf3c49d-b815-4182-9b91-6f0c0e605925"
      },
      "execution_count": null,
      "outputs": [
        {
          "output_type": "stream",
          "name": "stdout",
          "text": [
            "Collecting autocorrect\n",
            "  Downloading autocorrect-2.6.1.tar.gz (622 kB)\n",
            "\u001b[?25l     \u001b[90m━━━━━━━━━━━━━━━━━━━━━━━━━━━━━━━━━━━━━━━━\u001b[0m \u001b[32m0.0/622.8 kB\u001b[0m \u001b[31m?\u001b[0m eta \u001b[36m-:--:--\u001b[0m\r\u001b[2K     \u001b[91m━━━━━━━━━━━━━━━━━━━━━\u001b[0m\u001b[90m╺\u001b[0m\u001b[90m━━━━━━━━━━━━━━━━━━\u001b[0m \u001b[32m327.7/622.8 kB\u001b[0m \u001b[31m9.7 MB/s\u001b[0m eta \u001b[36m0:00:01\u001b[0m\r\u001b[2K     \u001b[90m━━━━━━━━━━━━━━━━━━━━━━━━━━━━━━━━━━━━━━━━\u001b[0m \u001b[32m622.8/622.8 kB\u001b[0m \u001b[31m12.4 MB/s\u001b[0m eta \u001b[36m0:00:00\u001b[0m\n",
            "\u001b[?25h  Preparing metadata (setup.py) ... \u001b[?25l\u001b[?25hdone\n",
            "Building wheels for collected packages: autocorrect\n",
            "  Building wheel for autocorrect (setup.py) ... \u001b[?25l\u001b[?25hdone\n",
            "  Created wheel for autocorrect: filename=autocorrect-2.6.1-py3-none-any.whl size=622364 sha256=30b864078628fefbd598c38c6d2dd6d29d4e515a6b32a9da8f71f7675efc110d\n",
            "  Stored in directory: /root/.cache/pip/wheels/b5/7b/6d/b76b29ce11ff8e2521c8c7dd0e5bfee4fb1789d76193124343\n",
            "Successfully built autocorrect\n",
            "Installing collected packages: autocorrect\n",
            "Successfully installed autocorrect-2.6.1\n"
          ]
        }
      ]
    },
    {
      "cell_type": "code",
      "source": [
        "from youtube_transcript_api import YouTubeTranscriptApi\n",
        "from autocorrect import Speller\n",
        "import pyttsx3\n",
        "\n",
        "def get_video_id(video_url):\n",
        "    # Extract video ID from the URL\n",
        "    video_id = video_url.split(\"v=\")[1]\n",
        "    return video_id\n",
        "\n",
        "def transcribe_youtube_video(video_url):\n",
        "    try:\n",
        "        # Get the video ID from the URL\n",
        "        video_id = get_video_id(video_url)\n",
        "\n",
        "        # Get the transcript of the YouTube video\n",
        "        transcript = YouTubeTranscriptApi.get_transcript(video_id, languages=['en'],preserve_formatting=True)\n",
        "        print(transcript)\n",
        "        correctspell=Speller(lang='en')\n",
        "        for i in transcript:\n",
        "          i['text']=correctspell(i['text'])\n",
        "        # Extract text from the transcript\n",
        "        text = \" \".join([entry['text'] for entry in transcript])\n",
        "\n",
        "        # Output the text\n",
        "        print(\"Transcription:\")\n",
        "        print(text)\n",
        "\n",
        "        # Convert text to speech\n",
        "        engine = pyttsx3.init()\n",
        "        engine.say(text)\n",
        "        engine.runAndWait()\n",
        "\n",
        "    except Exception as e:\n",
        "        print(f\"An error occurred: {str(e)}\")\n",
        "\n",
        "if __name__ == \"__main__\":\n",
        "    # Replace 'YOUR_YOUTUBE_VIDEO_URL' with the actual URL of the YouTube video\n",
        "    video_url = 'https://www.youtube.com/watch?v=_nvAA-Ba2CI&si=PJwdqeFsgWGCiC5j'\n",
        "    transcribe_youtube_video(video_url)\n"
      ],
      "metadata": {
        "colab": {
          "base_uri": "https://localhost:8080/"
        },
        "id": "-MKtiapBN4ar",
        "outputId": "a0c35637-efd8-4b05-9fc8-14ed954f044f"
      },
      "execution_count": null,
      "outputs": [
        {
          "output_type": "stream",
          "name": "stdout",
          "text": [
            "[{'text': \"if you're south asian you face a unique problem\\xa0\\nwhen it comes to your health and fitness\\xa0\\xa0\", 'start': 0.16, 'duration': 3.28}, {'text': 'something not really talked about in the\\xa0\\nwest by mainstream fitness authorities\\xa0\\xa0', 'start': 3.44, 'duration': 3.36}, {'text': \"even in south asia no one's really talking\\xa0\\nabout this no one takes into account this\\xa0\\xa0\", 'start': 6.8, 'duration': 4.08}, {'text': 'unique obstacle south asians face on the path\\xa0\\nto good health and great physique recognize this\\xa0\\xa0', 'start': 10.88, 'duration': 5.04}, {'text': \"rene here from south asian strong and in this\\xa0\\nvideo i'm going to talk to you about something\\xa0\\xa0\", 'start': 19.68, 'duration': 3.04}, {'text': \"you've seen your entire life in the appearance of\\xa0\\nyour parents your relatives your friends and most\\xa0\\xa0\", 'start': 22.72, 'duration': 4.24}, {'text': 'of all yourself your weight is normal you look\\xa0\\nthin in clothes but when the shirt comes off or\\xa0\\xa0', 'start': 26.96, 'duration': 4.72}, {'text': \"if you're wearing a swimsuit or a sorry you get\\xa0\\nthis and this and this in recent times this body\\xa0\\xa0\", 'start': 31.68, 'duration': 7.6}, {'text': 'type has been called skinny fat when your arms\\xa0\\nlegs and face are skinny around your midsection\\xa0\\xa0', 'start': 39.28, 'duration': 5.04}, {'text': \"there's a bit extra people from all over the world\\xa0\\nand every ethnicity can have skinny fat body types\\xa0\\xa0\", 'start': 44.32, 'duration': 5.44}, {'text': \"but it's almost universal in only one population\\xa0\\nsouth asians in the medical community this body\\xa0\\xa0\", 'start': 49.76, 'duration': 6.08}, {'text': 'type actually has a name although not really well\\xa0\\nknown except among a few doctors and specialized\\xa0\\xa0', 'start': 55.84, 'duration': 4.32}, {'text': \"researchers it's called asian indian phenotype\\xa0\\nalso known as thin fat phenotype and in the\\xa0\\xa0\", 'start': 60.16, 'duration': 5.84}, {'text': \"modern world it can be as superficial as not\\xa0\\nlooking as good without clothes as we'd hoped\\xa0\\xa0\", 'start': 66.0, 'duration': 4.48}, {'text': 'or as serious as an early grave not to mention\\xa0\\na frustrating obstacle on your fitness journey\\xa0\\xa0', 'start': 70.48, 'duration': 5.2}, {'text': 'these are the signs of asian indian phenotype\\xa0\\nor what i call the south asian skinny fat body\\xa0\\xa0', 'start': 76.4, 'duration': 4.88}, {'text': 'a tendency to have skinny non-muscled arms\\xa0\\nand legs meanwhile preferentially storing\\xa0\\xa0', 'start': 82.0, 'duration': 5.92}, {'text': 'fat around your lower abdomen your lower belly\\xa0\\nand your hips sometimes called your love handles\\xa0\\xa0', 'start': 87.92, 'duration': 5.68}, {'text': \"and also the lower chest if you're a man overall\\xa0\\nsmaller stature and joints things like your wrists\\xa0\\xa0\", 'start': 93.6, 'duration': 6.48}, {'text': 'and your height any of this sound familiar\\xa0\\ndepending on what part of the indian subcontinent\\xa0\\xa0', 'start': 100.08, 'duration': 5.12}, {'text': \"you're originally from and where and how you\\xa0\\ngrew up this can vary but for the most part\\xa0\\xa0\", 'start': 105.2, 'duration': 4.88}, {'text': \"every adult in your life probably exhibits some of\\xa0\\nthese traits to some degree it didn't get pretty\\xa0\\xa0\", 'start': 110.08, 'duration': 4.72}, {'text': 'bad ever wonder why south asians are at such high\\xa0\\nrisk of heart disease diabetes pcos high blood\\xa0\\xa0', 'start': 114.8, 'duration': 6.88}, {'text': 'pressure and cholesterol this is why this pouch\\xa0\\nof subcutaneous fat around your lower abdomen\\xa0\\xa0', 'start': 121.68, 'duration': 6.08}, {'text': \"whether small or large is the culprit it's the\\xa0\\nobstacle standing in the way of you getting those\\xa0\\xa0\", 'start': 127.76, 'duration': 4.32}, {'text': 'six-pack abs losing weight with the diet and\\xa0\\nexercise recommendations your doctor gives you\\xa0\\xa0', 'start': 132.08, 'duration': 5.2}, {'text': 'getting off medications taking your shirt off\\xa0\\nwithout anxiety and being able to just eat\\xa0\\xa0', 'start': 137.28, 'duration': 4.32}, {'text': 'and drink like everyone else does without gaining\\xa0\\nexcess weight and just enjoying your life it puts\\xa0\\xa0', 'start': 141.6, 'duration': 5.04}, {'text': 'you at a significant disadvantage in the modern\\xa0\\nworld but the good news is it can be overcome\\xa0\\xa0', 'start': 146.64, 'duration': 4.32}, {'text': 'so why do south asians exhibit skinny fat syndrome\\xa0\\nmore than other populations to understand that we\\xa0\\xa0', 'start': 151.68, 'duration': 5.52}, {'text': 'need to first understand our genetics our genetics\\xa0\\nare shaped by our environment the traits that\\xa0\\xa0', 'start': 157.2, 'duration': 4.48}, {'text': 'appear in us now are the ones that were useful in\\xa0\\nour past and allowed our ancestors to survive in\\xa0\\xa0', 'start': 161.68, 'duration': 4.48}, {'text': 'their time and pass on their genes to us today\\xa0\\nso what was our environment in south asia well\\xa0\\xa0', 'start': 166.16, 'duration': 5.92}, {'text': \"it was one of relative abundance and fertile soil\\xa0\\nthe reason why we're here but also frequent famine\\xa0\\xa0\", 'start': 172.8, 'duration': 5.84}, {'text': 'famine has been a regular occurrence in south asia\\xa0\\nsince ancient times with droughts and resulting\\xa0\\xa0', 'start': 179.68, 'duration': 4.8}, {'text': 'crop failures happening intermediately for\\xa0\\nthousands of years since the dawn of agriculture\\xa0\\xa0', 'start': 184.48, 'duration': 4.32}, {'text': 'during the british rule alone from 1769 to 1947\\xa0\\nthere were 24 major famines which resulted in an\\xa0\\xa0', 'start': 189.36, 'duration': 5.68}, {'text': \"estimated 85 million lives lost for perspective\\xa0\\nthat's more than the population of any european\\xa0\\xa0\", 'start': 195.04, 'duration': 5.76}, {'text': 'country today so why is famine so frequent in\\xa0\\nsouth asia well south asians were early adopters\\xa0\\xa0', 'start': 200.8, 'duration': 6.24}, {'text': 'of agriculture similar to the sumerians and\\xa0\\nmesopotamians and agriculture of course heavily\\xa0\\xa0', 'start': 207.04, 'duration': 5.12}, {'text': 'relies on the climate like much of the tropics\\xa0\\nwith monsoon seasons and a part of the el nino\\xa0\\xa0', 'start': 212.16, 'duration': 5.2}, {'text': 'southern oscillation weather system climate in\\xa0\\nindia can be highly variable and unpredictable\\xa0\\xa0', 'start': 217.36, 'duration': 5.44}, {'text': 'monsoons can fail causing droughts and crop\\xa0\\nfailures other times they can cause flooding\\xa0\\xa0', 'start': 222.8, 'duration': 5.04}, {'text': 'add to that heat waves hail damage crops cyclones\\xa0\\nand you get a recipe for periodic famine so given\\xa0\\xa0', 'start': 227.84, 'duration': 6.08}, {'text': 'all that how did our ancestors survive well the\\xa0\\nones that did had survivor genetics genetics\\xa0\\xa0', 'start': 233.92, 'duration': 5.52}, {'text': 'that adapted to periodic undernourishment meaning\\xa0\\nnot enough food how by storing extra energy for\\xa0\\xa0', 'start': 239.44, 'duration': 6.64}, {'text': 'times that we might need it in the form of fat not\\xa0\\nonly that but we also adapted to have less muscle\\xa0\\xa0', 'start': 246.08, 'duration': 5.84}, {'text': 'or lean mass because muscle is metabolically\\xa0\\nexpensive meaning it takes up a lot of calories\\xa0\\xa0', 'start': 251.92, 'duration': 4.8}, {'text': 'and energy which is not a good thing when\\xa0\\ntimes are scarce you might be wondering\\xa0\\xa0', 'start': 256.72, 'duration': 4.32}, {'text': 'are these traits really genetic or are they\\xa0\\njust because of our diet and lifestyle habits\\xa0\\xa0', 'start': 261.04, 'duration': 3.44}, {'text': \"well diet and lifestyle definitely do play a\\xa0\\nrole i've heard and observed myself of many\\xa0\\xa0\", 'start': 265.2, 'duration': 4.48}, {'text': 'reports of south asian children who\\xa0\\ngrew up in the west with a better diet\\xa0\\xa0', 'start': 269.68, 'duration': 3.84}, {'text': 'and they ended up taller and naturally leaner\\xa0\\nmeaning have they less fat than their parents\\xa0\\xa0', 'start': 273.52, 'duration': 4.4}, {'text': 'but the fact is these traits are actually\\xa0\\nnoticeable even before we are born as a fetus\\xa0\\xa0', 'start': 277.92, 'duration': 3.92}, {'text': \"in our mother's womb which indicates that there\\xa0\\nis some genetic predisposition now at this point\\xa0\\xa0\", 'start': 281.84, 'duration': 5.76}, {'text': \"maybe you're feeling a bit hopeless thinking great\\xa0\\ni'll never be able to lose fat or build muscle\\xa0\\xa0\", 'start': 287.6, 'duration': 5.2}, {'text': \"or maybe you're mad because you think i'm saying\\xa0\\nsomehow south asians have inferior genetics\\xa0\\xa0\", 'start': 292.8, 'duration': 4.16}, {'text': \"of course not nature does not care for whatever we\\xa0\\njudge as superior or inferior better or worse it's\\xa0\\xa0\", 'start': 297.52, 'duration': 6.48}, {'text': \"just survival or death the fact is that in all\\xa0\\nof our physical characteristics whether it's our\\xa0\\xa0\", 'start': 304.0, 'duration': 4.88}, {'text': 'our appearance our skin color the genetic\\xa0\\nlottery deals us all different hands and\\xa0\\xa0', 'start': 309.68, 'duration': 4.32}, {'text': \"rather than complaining about the things we can't\\xa0\\nchange what matters is how we play those hands by\\xa0\\xa0\", 'start': 314.0, 'duration': 4.88}, {'text': \"understanding how we're different we can actually\\xa0\\nuse this knowledge to reverse the processes that\\xa0\\xa0\", 'start': 318.88, 'duration': 4.32}, {'text': \"we can control and maximize what we do have\\xa0\\nit's crucial to remember that up until recently\\xa0\\xa0\", 'start': 323.2, 'duration': 5.12}, {'text': \"these adaptations served a very important\\xa0\\npurpose they're the reason we're here today\\xa0\\xa0\", 'start': 328.32, 'duration': 3.44}, {'text': \"now though they're at best a nuisance causing\\xa0\\nconfusion and disappointment on your journey to\\xa0\\xa0\", 'start': 332.32, 'duration': 4.08}, {'text': 'your goal physique and at worst a life-threatening\\xa0\\ncondition for you your family and your friends\\xa0\\xa0', 'start': 336.4, 'duration': 5.44}, {'text': 'our modern lifestyles of abundance no longer need\\xa0\\nthis extra reserve of energy that protected us\\xa0\\xa0', 'start': 341.84, 'duration': 4.4}, {'text': 'when food was scarce but our body is still wired\\xa0\\nto survive our ancient environment of periodic\\xa0\\xa0', 'start': 346.24, 'duration': 5.28}, {'text': 'famine and that is what we as south asians\\xa0\\nhave to take into account when it comes to\\xa0\\xa0', 'start': 351.52, 'duration': 3.6}, {'text': 'achieving our health and fitness goals so how\\xa0\\ndo we do that we know why we as cell patients\\xa0\\xa0', 'start': 355.12, 'duration': 4.56}, {'text': \"are different but we don't know what's happening\\xa0\\nin our bodies as a result of these differences\\xa0\\xa0\", 'start': 359.68, 'duration': 3.6}, {'text': 'the main difference in how our bodies function as\\xa0\\na result of asian indian phenotype is something\\xa0\\xa0', 'start': 364.08, 'duration': 4.96}, {'text': \"called insulin resistance i'll go into more\\xa0\\ndetail about how insulin resistance affects us\\xa0\\xa0\", 'start': 369.04, 'duration': 4.32}, {'text': 'in other videos but for now all you need to know\\xa0\\nis this when you eat food and the carbohydrates\\xa0\\xa0', 'start': 373.36, 'duration': 5.44}, {'text': 'in your food get broken down into sugar once the\\xa0\\ncarbohydrates are broken down your body needs to\\xa0\\xa0', 'start': 378.8, 'duration': 5.2}, {'text': 'find a place to store this sugar for later use as\\xa0\\nenergy this place is most often your muscle cells\\xa0\\xa0', 'start': 384.0, 'duration': 6.4}, {'text': 'for the sugar to get into your muscle cells and\\xa0\\nbe used as a quick source of energy the sugar\\xa0\\xa0', 'start': 391.28, 'duration': 4.08}, {'text': 'molecules in your blood need a ticket call this\\xa0\\nticket insulin normally the sugar you eat and get\\xa0\\xa0', 'start': 395.36, 'duration': 5.92}, {'text': \"into your muscle cells at a healthy rate and the\\xa0\\nsugar in your bloodstream doesn't rise abnormally\\xa0\\xa0\", 'start': 401.28, 'duration': 4.32}, {'text': 'and become out of balance but what happens with\\xa0\\ninsulin resistance is that your muscle cells\\xa0\\xa0', 'start': 405.6, 'duration': 4.4}, {'text': 'stop accepting insulin as a ticket\\xa0\\nfor the sugar in your blood to get in\\xa0\\xa0', 'start': 410.56, 'duration': 3.36}, {'text': 'what happens is your blood sugar levels rise\\xa0\\nand your body needs a place to send this sugar\\xa0\\xa0', 'start': 414.56, 'duration': 3.92}, {'text': \"and the next place on the list is your fat\\xa0\\ncells the sugar that can't get into your muscle\\xa0\\xa0\", 'start': 419.12, 'duration': 4.64}, {'text': 'then goes to your fat cells and is stored as\\xa0\\ntriglycerides as a long-term source of energy\\xa0\\xa0', 'start': 423.76, 'duration': 4.32}, {'text': 'and this is how south asians and anyone else who\\xa0\\nis insulin resistant gains excess fat especially\\xa0\\xa0', 'start': 428.64, 'duration': 5.36}, {'text': 'around the midsection our bodies as south asians\\xa0\\nare more insulin resistant than other ethnicities\\xa0\\xa0', 'start': 434.0, 'duration': 6.24}, {'text': 'which results in our bodies more preferentially\\xa0\\nstoring the carbohydrates we consume in our fat\\xa0\\xa0', 'start': 440.24, 'duration': 4.32}, {'text': 'cells particularly on our abdomen rather\\xa0\\nthan our muscle cells in the modern world\\xa0\\xa0', 'start': 444.56, 'duration': 5.12}, {'text': 'this puts us at an increased risk for almost\\xa0\\nevery non-communicable disease and chronic\\xa0\\xa0', 'start': 449.68, 'duration': 4.4}, {'text': \"lifestyle disease known to man and since we've\\xa0\\nall been conditioned by western popular media\\xa0\\xa0\", 'start': 454.08, 'duration': 5.12}, {'text': \"it's also not as visually appealing insulin\\xa0\\nresistance is not only the result of our\\xa0\\xa0\", 'start': 459.2, 'duration': 4.32}, {'text': 'skinny fat genes but it also perpetuates as we get\\xa0\\nolder meaning it builds on itself like a snowball\\xa0\\xa0', 'start': 463.52, 'duration': 4.72}, {'text': 'this is the reason why older south\\xa0\\nasian adults gain weight primarily\\xa0\\xa0', 'start': 468.96, 'duration': 3.2}, {'text': 'around their abdomen and are at such high risk\\xa0\\nof conditions like heart attacks and diabetes\\xa0\\xa0', 'start': 472.16, 'duration': 3.92}, {'text': 'so now you know the reasons why south asians are\\xa0\\nskinny fat and how our bodies function differently\\xa0\\xa0', 'start': 477.04, 'duration': 4.96}, {'text': 'to get the best results when it comes to\\xa0\\nachieving your health and fitness goals\\xa0\\xa0', 'start': 482.0, 'duration': 3.12}, {'text': \"you should use this knowledge on this channel i'll\\xa0\\nbe covering the exact strategies we can use to\\xa0\\xa0\", 'start': 485.12, 'duration': 4.32}, {'text': 'reverse insulin resistance improve our health and\\xa0\\nbuild the body we want so if you like this video\\xa0\\xa0', 'start': 489.44, 'duration': 4.72}, {'text': \"and want to learn more please hit the like button\\xa0\\nbelow for now we'll go over what not to do using\\xa0\\xa0\", 'start': 494.16, 'duration': 5.12}, {'text': 'my journey as an example when i first started\\xa0\\ntrying to get in shape the mainstream advice in\\xa0\\xa0', 'start': 499.28, 'duration': 4.0}, {'text': 'the fitness industry was to eat six to eight\\xa0\\nsmaller meals spaced throughout the day eat\\xa0\\xa0', 'start': 503.28, 'duration': 4.56}, {'text': 'a low fat high carbohydrate and high protein diet\\xa0\\navoid foods like red meat eggs and full fat dairy\\xa0\\xa0', 'start': 507.84, 'duration': 6.96}, {'text': 'train like a bodybuilder with each day dedicated\\xa0\\nto a different body part with lots of exercises\\xa0\\xa0', 'start': 514.8, 'duration': 4.72}, {'text': 'sets and reps divide your training into fat loss\\xa0\\nand muscle gaining phases also known as cuts and\\xa0\\xa0', 'start': 519.52, 'duration': 4.8}, {'text': 'bulks and take tons of supplements to support\\xa0\\nthese goals does that sound like fun to you\\xa0\\xa0', 'start': 524.32, 'duration': 4.88}, {'text': \"following this advice i ended up getting bigger\\xa0\\nand stronger but i still wasn't able to shed that\\xa0\\xa0\", 'start': 529.2, 'duration': 3.92}, {'text': 'skinny fat look i would either bulk up get too fat\\xa0\\nor try to lose fat and just end up looking skinny\\xa0\\xa0', 'start': 533.12, 'duration': 5.52}, {'text': 'not to mention these strategies made life a lot\\xa0\\nharder than it had to be no one wants to skip\\xa0\\xa0', 'start': 538.64, 'duration': 3.92}, {'text': 'social events to hit the gym or bring their own\\xa0\\nfood to parties for the better part of my teenage\\xa0\\xa0', 'start': 542.56, 'duration': 4.32}, {'text': 'and college years i worked out twice as hard as my\\xa0\\nnon-south asian friends and was twice as careful\\xa0\\xa0', 'start': 546.88, 'duration': 4.56}, {'text': \"with my diet but still managed to look like i had\\xa0\\nless muscle and more fat than others who weren't\\xa0\\xa0\", 'start': 551.44, 'duration': 5.04}, {'text': \"as careful which eventually led to me questioning\\xa0\\nit all why didn't mainstream workout routines\\xa0\\xa0\", 'start': 556.48, 'duration': 5.04}, {'text': 'and diets work as well for me as they did for my\\xa0\\nnon-south asian friends so i went looking for some\\xa0\\xa0', 'start': 561.52, 'duration': 4.96}, {'text': 'answers and found some over the next few years\\xa0\\ni did the opposite of everything i did before\\xa0\\xa0', 'start': 566.48, 'duration': 4.8}, {'text': \"some of these strategies you've probably heard of\\xa0\\ni practice intermittent fasting skipping breakfast\\xa0\\xa0\", 'start': 571.28, 'duration': 4.72}, {'text': 'eating only twice a day i tried low carb high fat\\xa0\\ndiets like keto i did more power lifting style\\xa0\\xa0', 'start': 576.0, 'duration': 5.84}, {'text': 'workouts with heavier weight less volume and less\\xa0\\nfrequency i did high intensity interval training\\xa0\\xa0', 'start': 581.84, 'duration': 5.76}, {'text': 'with short bursts of exercise multiple times a\\xa0\\nweek i cut out all supplements and focus on eating\\xa0\\xa0', 'start': 587.6, 'duration': 5.92}, {'text': 'like a caveman with only healthy whole foods\\xa0\\nthat our hunter gatherer ancestors supposedly ate\\xa0\\xa0', 'start': 593.52, 'duration': 4.72}, {'text': 'i even practice odd lifestyle self-improvement\\xa0\\nhabits and although i got much healthier and\\xa0\\xa0', 'start': 599.12, 'duration': 4.96}, {'text': 'felt much better i was still skinny fat on top\\xa0\\nof that these diet and fitness habits were also\\xa0\\xa0', 'start': 604.08, 'duration': 4.88}, {'text': 'not sustainable nobody wants to skip breakfast\\xa0\\nand avoid carbs forever especially south asians\\xa0\\xa0', 'start': 608.96, 'duration': 5.2}, {'text': 'so once again i did some digging and thinking\\xa0\\nfinally after the better part of a decade of\\xa0\\xa0', 'start': 614.16, 'duration': 4.32}, {'text': 'trying almost every popular workout program diet\\xa0\\nplan and self-improvement habit i glimpsed the\\xa0\\xa0', 'start': 618.48, 'duration': 4.88}, {'text': 'truth and started on a journey to the physique\\xa0\\ni wanted in optimal health how by realizing that\\xa0\\xa0', 'start': 623.36, 'duration': 5.68}, {'text': 'in all these protocols something was missing us\\xa0\\nboth modern and traditional health recommendations\\xa0\\xa0', 'start': 629.04, 'duration': 5.76}, {'text': \"didn't take into account our unique genetic and\\xa0\\ncultural makeup as south asians western fitness\\xa0\\xa0\", 'start': 634.8, 'duration': 5.44}, {'text': 'and health authorities gave everyone the same\\xa0\\nadvice and promised the same results meanwhile\\xa0\\xa0', 'start': 640.24, 'duration': 4.16}, {'text': 'every study or experience they based their\\xa0\\nrecommendations off of were done with people from\\xa0\\xa0', 'start': 644.4, 'duration': 3.68}, {'text': 'very different genetic and cultural backgrounds\\xa0\\ndoes that make sense to you after years of\\xa0\\xa0', 'start': 648.08, 'duration': 4.88}, {'text': 'experimentation trial and error hope and despair\\xa0\\nfailure and disappointment i came to a conclusion\\xa0\\xa0', 'start': 652.96, 'duration': 5.36}, {'text': 'since we as asians are built differently we should\\xa0\\ndo things differently you might be thinking that\\xa0\\xa0', 'start': 658.32, 'duration': 4.64}, {'text': 'due to our genetics we may have to exercise more\\xa0\\nthan other ethnicities and be even more strict\\xa0\\xa0', 'start': 662.96, 'duration': 3.84}, {'text': \"with our diet but this isn't the case for now\\xa0\\nknow that you don't need to exercise constantly\\xa0\\xa0\", 'start': 666.8, 'duration': 4.88}, {'text': \"and kill yourself in the gym every day or with\\xa0\\nhigh intensity workouts you don't need to give\\xa0\\xa0\", 'start': 671.68, 'duration': 4.32}, {'text': 'up the foods you love and grew up with in fact\\xa0\\ni would argue that these strategies can do even\\xa0\\xa0', 'start': 676.0, 'duration': 4.0}, {'text': 'more harm than good over the last five years\\xa0\\ni read everything i could find on skinny fat\\xa0\\xa0', 'start': 680.0, 'duration': 4.32}, {'text': 'body types and south asian genetics from both\\xa0\\ntraditional south asian and western sources and\\xa0\\xa0', 'start': 684.32, 'duration': 4.72}, {'text': 'came up with a three-step transformation plan to\\xa0\\nhelp you reverse insulin resistance build the body\\xa0\\xa0', 'start': 689.04, 'duration': 4.4}, {'text': \"you want and achieve good health i'll be covering\\xa0\\nall this information in future videos so if you\\xa0\\xa0\", 'start': 693.44, 'duration': 3.92}, {'text': 'want to learn more about how south asians are\\xa0\\nfeel differently and what to do about it hit the\\xa0\\xa0', 'start': 697.36, 'duration': 4.08}, {'text': \"subscribe button below and if like nick hill was\\xa0\\nyou're sick of being skinny fat and you want to\\xa0\\xa0\", 'start': 701.44, 'duration': 4.16}, {'text': 'start transforming immediately you can also check\\xa0\\nout our transformation program designed to take\\xa0\\xa0', 'start': 705.6, 'duration': 3.92}, {'text': 'you from this to this in as little as three months\\xa0\\nat southagentstrong.com the south asian strong\\xa0\\xa0', 'start': 709.52, 'duration': 6.24}, {'text': 'transformation program is delivered via a mobile\\xa0\\napp that provides you with a step-by-step plan\\xa0\\xa0', 'start': 715.76, 'duration': 4.08}, {'text': 'to lose fat build muscle and achieve your goal\\xa0\\nphysique all while taking into account our unique\\xa0\\xa0', 'start': 719.84, 'duration': 5.12}, {'text': 'genetic cultural and lifestyle needs all you have\\xa0\\nto do to sign up is go to south asianstrong.com\\xa0\\xa0', 'start': 724.96, 'duration': 4.56}, {'text': 'click on the coaching tab select your experience\\xa0\\nlevel any dietary preferences you might have and\\xa0\\xa0', 'start': 729.52, 'duration': 4.72}, {'text': \"what equipment you have and upon sign up you'll\\xa0\\nget a link to download the south asian strong\\xa0\\xa0\", 'start': 734.24, 'duration': 4.16}, {'text': 'mobile app on which all the details of your\\xa0\\ncustomized plan will be delivered including\\xa0\\xa0', 'start': 738.4, 'duration': 4.24}, {'text': 'an exercise plan with a full video guide for each\\xa0\\nexercise the ability to track your workouts and\\xa0\\xa0', 'start': 742.64, 'duration': 4.8}, {'text': \"diet you'll also get access to a short e-course\\xa0\\nthat goes over all the transformation protocols\\xa0\\xa0\", 'start': 747.44, 'duration': 4.72}, {'text': 'in detail as well as a full meal plan and recipe\\xa0\\nguide to ensure your success regardless of your\\xa0\\xa0', 'start': 752.16, 'duration': 5.2}, {'text': 'experience level or starting point the south\\xa0\\nasian strong program is designed to help you\\xa0\\xa0', 'start': 757.36, 'duration': 3.92}, {'text': 'lose fat pack on muscle and improve your health\\xa0\\nand quality of life all while catering to specific\\xa0\\xa0', 'start': 761.28, 'duration': 5.6}, {'text': \"cultural needs that's it for this video if you\\xa0\\nwant more frequent updates you can also follow\\xa0\\xa0\", 'start': 766.88, 'duration': 3.76}, {'text': 'me on instagram and tick tock south asian strong\\xa0\\nfor daily examples of how i eat exercise and live\\xa0\\xa0', 'start': 770.64, 'duration': 5.52}, {'text': 'to best support my fitness goals and improve my\\xa0\\nhealth while not having to spend hours in the gym\\xa0\\xa0', 'start': 776.16, 'duration': 4.64}, {'text': 'each week and still eating the foods i grew up\\xa0\\nwith thanks for watching and see you next time', 'start': 780.8, 'duration': 5.04}]\n",
            "Transcription:\n",
            "if you're south asian you face a unique problem \n",
            "when it comes to your health and fitness   something not really talked about in the \n",
            "west by mainstream fitness authorities   even in south asia no one's really talking \n",
            "about this no one takes into account this   unique obstacle south asian face on the path \n",
            "to good health and great physique recognize this   rene here from south asian strong and in this \n",
            "video i'm going to talk to you about something   you've seen your entire life in the appearance of \n",
            "your parents your relatives your friends and most   of all yourself your weight is normal you look \n",
            "thin in clothes but when the shirt comes off or   if you're wearing a swimsuit or a sorry you get \n",
            "this and this and this in recent times this body   type has been called skinny fat when your arms \n",
            "legs and face are skinny around your dissection   there's a bit extra people from all over the world \n",
            "and every ethnicity can have skinny fat body types   but it's almost universal in only one population \n",
            "south asian in the medical community this body   type actually has a name although not really well \n",
            "known except among a few doctors and specialized   researchers it's called asian indian phenotype \n",
            "also known as thin fat phenotype and in the   modern world it can be as superficial as not \n",
            "looking as good without clothes as we'd hoped   or as serious as an early grave not to mention \n",
            "a frustrating obstacle on your fitness journey   these are the signs of asian indian phenotype \n",
            "or what i call the south asian skinny fat body   a tendency to have skinny non-muscle arms \n",
            "and legs meanwhile preferentially storing   fat around your lower abdomen your lower belly \n",
            "and your hips sometimes called your love handles   and also the lower chest if you're a man overall \n",
            "smaller stature and joints things like your wrists   and your height any of this sound familiar \n",
            "depending on what part of the indian subcontinent   you're originally from and where and how you \n",
            "grew up this can vary but for the most part   every adult in your life probably exhibits some of \n",
            "these traits to some degree it didn't get pretty   bad ever wonder why south asian are at such high \n",
            "risk of heart disease diabetes pos high blood   pressure and cholesterol this is why this pouch \n",
            "of subcutaneous fat around your lower abdomen   whether small or large is the culprit it's the \n",
            "obstacle standing in the way of you getting those   six-pack abs losing weight with the diet and \n",
            "exercise recommendations your doctor gives you   getting off medications taking your shirt off \n",
            "without anxiety and being able to just eat   and drink like everyone else does without gaining \n",
            "excess weight and just enjoying your life it puts   you at a significant disadvantage in the modern \n",
            "world but the good news is it can be overcome   so why do south asian exhibit skinny fat syndrome \n",
            "more than other populations to understand that we   need to first understand our genetics our genetics \n",
            "are shaped by our environment the traits that   appear in us now are the ones that were useful in \n",
            "our past and allowed our ancestors to survive in   their time and pass on their genes to us today \n",
            "so what was our environment in south asia well   it was one of relative abundance and fertile soil \n",
            "the reason why we're here but also frequent famine   famine has been a regular occurrence in south asia \n",
            "since ancient times with droughts and resulting   crop failures happening intermediate for \n",
            "thousands of years since the dawn of agriculture   during the british rule alone from 1769 to 1947 \n",
            "there were 24 major famine which resulted in an   estimated 85 million lives lost for perspective \n",
            "that's more than the population of any european   country today so why is famine so frequent in \n",
            "south asia well south asian were early adapters   of agriculture similar to the sumerians and \n",
            "mesopotamians and agriculture of course heavily   relies on the climate like much of the tropics \n",
            "with monsoon seasons and a part of the el nine   southern oscillation weather system climate in \n",
            "india can be highly variable and unpredictable   monsoon can fail causing droughts and crop \n",
            "failures other times they can cause flooding   add to that heat waves hail damage crops cyclones \n",
            "and you get a recipe for periodic famine so given   all that how did our ancestors survive well the \n",
            "ones that did had survivor genetics genetics   that adapted to periodic undernourishment meaning \n",
            "not enough food how by storing extra energy for   times that we might need it in the form of fat not \n",
            "only that but we also adapted to have less muscle   or lean mass because muscle is metabolically \n",
            "expensive meaning it takes up a lot of calories   and energy which is not a good thing when \n",
            "times are scarce you might be wondering   are these traits really genetic or are they \n",
            "just because of our diet and lifestyle habits   well diet and lifestyle definitely do play a \n",
            "role i've heard and observed myself of many   reports of south asian children who \n",
            "grew up in the west with a better diet   and they ended up taller and naturally leader \n",
            "meaning have they less fat than their parents   but the fact is these traits are actually \n",
            "noticeable even before we are born as a fetus   in our mother's womb which indicates that there \n",
            "is some genetic predisposition now at this point   maybe you're feeling a bit hopeless thinking great \n",
            "i'll never be able to lose fat or build muscle   or maybe you're mad because you think i'm saying \n",
            "somehow south asian have inferior genetics   of course not nature does not care for whatever we \n",
            "judge as superior or inferior better or worse it's   just survival or death the fact is that in all \n",
            "of our physical characteristics whether it's our   our appearance our skin color the genetic \n",
            "lottery deals us all different hands and   rather than complaining about the things we can't \n",
            "change what matters is how we play those hands by   understanding how we're different we can actually \n",
            "use this knowledge to reverse the processes that   we can control and maximize what we do have \n",
            "it's crucial to remember that up until recently   these adaptations served a very important \n",
            "purpose they're the reason we're here today   now though they're at best a nuisance causing \n",
            "confusion and disappointment on your journey to   your goal physique and at worst a life-threatening \n",
            "condition for you your family and your friends   our modern lifestyles of abundance no longer need \n",
            "this extra reserve of energy that protected us   when food was scarce but our body is still wired \n",
            "to survive our ancient environment of periodic   famine and that is what we as south asian \n",
            "have to take into account when it comes to   achieving our health and fitness goals so how \n",
            "do we do that we know why we as cell patients   are different but we don't know what's happening \n",
            "in our bodies as a result of these differences   the main difference in how our bodies function as \n",
            "a result of asian indian phenotype is something   called insulin resistance i'll go into more \n",
            "detail about how insulin resistance affects us   in other videos but for now all you need to know \n",
            "is this when you eat food and the carbohydrates   in your food get broken down into sugar once the \n",
            "carbohydrates are broken down your body needs to   find a place to store this sugar for later use as \n",
            "energy this place is most often your muscle cells   for the sugar to get into your muscle cells and \n",
            "be used as a quick source of energy the sugar   molecules in your blood need a ticket call this \n",
            "ticket insulin normally the sugar you eat and get   into your muscle cells at a healthy rate and the \n",
            "sugar in your bloodstream doesn't rise abnormally   and become out of balance but what happens with \n",
            "insulin resistance is that your muscle cells   stop accepting insulin as a ticket \n",
            "for the sugar in your blood to get in   what happens is your blood sugar levels rise \n",
            "and your body needs a place to send this sugar   and the next place on the list is your fat \n",
            "cells the sugar that can't get into your muscle   then goes to your fat cells and is stored as \n",
            "triglycerides as a long-term source of energy   and this is how south asian and anyone else who \n",
            "is insulin resistant gains excess fat especially   around the dissection our bodies as south asian \n",
            "are more insulin resistant than other ethnicities   which results in our bodies more preferentially \n",
            "storing the carbohydrates we consume in our fat   cells particularly on our abdomen rather \n",
            "than our muscle cells in the modern world   this puts us at an increased risk for almost \n",
            "every non-communicate disease and chronic   lifestyle disease known to man and since we've \n",
            "all been conditioned by western popular media   it's also not as visually appealing insulin \n",
            "resistance is not only the result of our   skinny fat genes but it also perpetuate as we get \n",
            "older meaning it builds on itself like a snowball   this is the reason why older south \n",
            "asian adults gain weight primarily   around their abdomen and are at such high risk \n",
            "of conditions like heart attacks and diabetes   so now you know the reasons why south asian are \n",
            "skinny fat and how our bodies function differently   to get the best results when it comes to \n",
            "achieving your health and fitness goals   you should use this knowledge on this channel i'll \n",
            "be covering the exact strategies we can use to   reverse insulin resistance improve our health and \n",
            "build the body we want so if you like this video   and want to learn more please hit the like button \n",
            "below for now we'll go over what not to do using   my journey as an example when i first started \n",
            "trying to get in shape the mainstream advice in   the fitness industry was to eat six to eight \n",
            "smaller meals spaced throughout the day eat   a low fat high carbohydrate and high protein diet \n",
            "avoid foods like red meat eggs and full fat dairy   train like a bodybuilder with each day dedicated \n",
            "to a different body part with lots of exercises   sets and reps divide your training into fat loss \n",
            "and muscle gaining phases also known as cuts and   bulk and take tons of supplements to support \n",
            "these goals does that sound like fun to you   following this advice i ended up getting bigger \n",
            "and stronger but i still wasn't able to shed that   skinny fat look i would either bulk up get too fat \n",
            "or try to lose fat and just end up looking skinny   not to mention these strategies made life a lot \n",
            "harder than it had to be no one wants to skip   social events to hit the gym or bring their own \n",
            "food to parties for the better part of my teenage   and college years i worked out twice as hard as my \n",
            "non-south asian friends and was twice as careful   with my diet but still managed to look like i had \n",
            "less muscle and more fat than others who weren't   as careful which eventually led to me questioning \n",
            "it all why didn't mainstream workout routines   and diets work as well for me as they did for my \n",
            "non-south asian friends so i went looking for some   answers and found some over the next few years \n",
            "i did the opposite of everything i did before   some of these strategies you've probably heard of \n",
            "i practice intermittent fasting skipping breakfast   eating only twice a day i tried low car high fat \n",
            "diets like veto i did more power lifting style   workout with heavier weight less volume and less \n",
            "frequency i did high intensity interval training   with short bursts of exercise multiple times a \n",
            "week i cut out all supplements and focus on eating   like a baseman with only healthy whole foods \n",
            "that our hunter gatherer ancestors supposedly ate   i even practice odd lifestyle self-improvement \n",
            "habits and although i got much healthier and   felt much better i was still skinny fat on top \n",
            "of that these diet and fitness habits were also   not sustainable nobody wants to skip breakfast \n",
            "and avoid cars forever especially south asian   so once again i did some digging and thinking \n",
            "finally after the better part of a decade of   trying almost every popular workout program diet \n",
            "plan and self-improvement habit i glimpse the   truth and started on a journey to the physique \n",
            "i wanted in optimal health how by realizing that   in all these protocols something was missing us \n",
            "both modern and traditional health recommendations   didn't take into account our unique genetic and \n",
            "cultural makeup as south asian western fitness   and health authorities gave everyone the same \n",
            "advice and promised the same results meanwhile   every study or experience they based their \n",
            "recommendations off of were done with people from   very different genetic and cultural backgrounds \n",
            "does that make sense to you after years of   experimentation trial and error hope and despair \n",
            "failure and disappointment i came to a conclusion   since we as asian are built differently we should \n",
            "do things differently you might be thinking that   due to our genetics we may have to exercise more \n",
            "than other ethnicities and be even more strict   with our diet but this isn't the case for now \n",
            "know that you don't need to exercise constantly   and kill yourself in the gym every day or with \n",
            "high intensity workout you don't need to give   up the foods you love and grew up with in fact \n",
            "i would argue that these strategies can do even   more harm than good over the last five years \n",
            "i read everything i could find on skinny fat   body types and south asian genetics from both \n",
            "traditional south asian and western sources and   came up with a three-step transformation plan to \n",
            "help you reverse insulin resistance build the body   you want and achieve good health i'll be covering \n",
            "all this information in future videos so if you   want to learn more about how south asian are \n",
            "feel differently and what to do about it hit the   subscribe button below and if like nick hill was \n",
            "you're sick of being skinny fat and you want to   start transforming immediately you can also check \n",
            "out our transformation program designed to take   you from this to this in as little as three months \n",
            "at southagentstrong.com the south asian strong   transformation program is delivered via a mobile \n",
            "app that provides you with a step-by-step plan   to lose fat build muscle and achieve your goal \n",
            "physique all while taking into account our unique   genetic cultural and lifestyle needs all you have \n",
            "to do to sign up is go to south asianstrong.com   click on the coaching tab select your experience \n",
            "level any dietary preferences you might have and   what equipment you have and upon sign up you'll \n",
            "get a link to download the south asian strong   mobile app on which all the details of your \n",
            "customized plan will be delivered including   an exercise plan with a full video guide for each \n",
            "exercise the ability to track your workout and   diet you'll also get access to a short e-course \n",
            "that goes over all the transformation protocols   in detail as well as a full meal plan and recipe \n",
            "guide to ensure your success regardless of your   experience level or starting point the south \n",
            "asian strong program is designed to help you   lose fat pack on muscle and improve your health \n",
            "and quality of life all while catering to specific   cultural needs that's it for this video if you \n",
            "want more frequent updates you can also follow   me on instagram and tick took south asian strong \n",
            "for daily examples of how i eat exercise and live   to best support my fitness goals and improve my \n",
            "health while not having to spend hours in the gym   each week and still eating the foods i grew up \n",
            "with thanks for watching and see you next time\n",
            "An error occurred: libespeak.so.1: cannot open shared object file: No such file or directory\n"
          ]
        }
      ]
    },
    {
      "cell_type": "code",
      "source": [],
      "metadata": {
        "id": "Np3h1jcDOAKX"
      },
      "execution_count": null,
      "outputs": []
    }
  ]
}