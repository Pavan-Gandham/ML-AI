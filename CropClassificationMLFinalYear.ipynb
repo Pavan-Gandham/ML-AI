{
  "cells": [
    {
      "cell_type": "markdown",
      "metadata": {
        "id": "view-in-github",
        "colab_type": "text"
      },
      "source": [
        "<a href=\"https://colab.research.google.com/github/Pavan-Gandham/ML-AI/blob/master/CropClassificationMLFinalYear.ipynb\" target=\"_parent\"><img src=\"https://colab.research.google.com/assets/colab-badge.svg\" alt=\"Open In Colab\"/></a>"
      ]
    },
    {
      "cell_type": "markdown",
      "metadata": {
        "id": "i2PabRB_HmiK"
      },
      "source": [
        "Classificaiton"
      ]
    },
    {
      "cell_type": "code",
      "execution_count": null,
      "metadata": {
        "id": "P7ilKI05DRMR"
      },
      "outputs": [],
      "source": [
        "import pandas as pd\n",
        "from sklearn.model_selection import train_test_split, cross_val_score\n",
        "from sklearn.model_selection import train_test_split\n",
        "from sklearn.linear_model import LogisticRegression\n",
        "from sklearn.ensemble import RandomForestClassifier, GradientBoostingClassifier\n",
        "from sklearn.metrics import classification_report\n",
        "from sklearn.svm import SVC\n",
        "from sklearn.naive_bayes import GaussianNB\n",
        "from sklearn.neighbors import KNeighborsClassifier\n",
        "from sklearn.tree import DecisionTreeClassifier\n",
        "from sklearn import linear_model\n",
        "import seaborn as sns\n",
        "import numpy as np\n",
        "from sklearn.metrics import accuracy_score\n",
        "import matplotlib.pyplot as plt"
      ]
    },
    {
      "cell_type": "code",
      "source": [
        "import pickle"
      ],
      "metadata": {
        "id": "eXQQ0h1YDQJs"
      },
      "execution_count": null,
      "outputs": []
    },
    {
      "cell_type": "code",
      "execution_count": null,
      "metadata": {
        "id": "KWz3XWWo3ZZ5"
      },
      "outputs": [],
      "source": [
        "data = pd.read_excel(\"/content/Data9.xlsx\")"
      ]
    },
    {
      "cell_type": "code",
      "execution_count": null,
      "metadata": {
        "id": "oD6AoRD87wg2",
        "colab": {
          "base_uri": "https://localhost:8080/",
          "height": 206
        },
        "outputId": "98c9743e-8eab-4085-9cad-034dc4c33140"
      },
      "outputs": [
        {
          "output_type": "execute_result",
          "data": {
            "text/plain": [
              "        Tmax       Tmin        RHI        RF       RHII       SSH  label\n",
              "0  32.989258  23.200900  71.439352  0.000000  52.112283  8.715937      5\n",
              "1  31.069074  19.587335  92.276059  0.000000  60.077425  8.298068      1\n",
              "2  29.572746  22.190188  79.585379  7.351673  54.421700  6.017096      3\n",
              "3  33.065589  22.631531  89.248138  0.000000  57.219870  8.901955      2\n",
              "4  34.916616  23.204315  90.980770  0.000000  56.031808  7.180614      2"
            ],
            "text/html": [
              "\n",
              "  <div id=\"df-b0ea588c-ee79-4b3e-b57e-672ecab082d3\" class=\"colab-df-container\">\n",
              "    <div>\n",
              "<style scoped>\n",
              "    .dataframe tbody tr th:only-of-type {\n",
              "        vertical-align: middle;\n",
              "    }\n",
              "\n",
              "    .dataframe tbody tr th {\n",
              "        vertical-align: top;\n",
              "    }\n",
              "\n",
              "    .dataframe thead th {\n",
              "        text-align: right;\n",
              "    }\n",
              "</style>\n",
              "<table border=\"1\" class=\"dataframe\">\n",
              "  <thead>\n",
              "    <tr style=\"text-align: right;\">\n",
              "      <th></th>\n",
              "      <th>Tmax</th>\n",
              "      <th>Tmin</th>\n",
              "      <th>RHI</th>\n",
              "      <th>RF</th>\n",
              "      <th>RHII</th>\n",
              "      <th>SSH</th>\n",
              "      <th>label</th>\n",
              "    </tr>\n",
              "  </thead>\n",
              "  <tbody>\n",
              "    <tr>\n",
              "      <th>0</th>\n",
              "      <td>32.989258</td>\n",
              "      <td>23.200900</td>\n",
              "      <td>71.439352</td>\n",
              "      <td>0.000000</td>\n",
              "      <td>52.112283</td>\n",
              "      <td>8.715937</td>\n",
              "      <td>5</td>\n",
              "    </tr>\n",
              "    <tr>\n",
              "      <th>1</th>\n",
              "      <td>31.069074</td>\n",
              "      <td>19.587335</td>\n",
              "      <td>92.276059</td>\n",
              "      <td>0.000000</td>\n",
              "      <td>60.077425</td>\n",
              "      <td>8.298068</td>\n",
              "      <td>1</td>\n",
              "    </tr>\n",
              "    <tr>\n",
              "      <th>2</th>\n",
              "      <td>29.572746</td>\n",
              "      <td>22.190188</td>\n",
              "      <td>79.585379</td>\n",
              "      <td>7.351673</td>\n",
              "      <td>54.421700</td>\n",
              "      <td>6.017096</td>\n",
              "      <td>3</td>\n",
              "    </tr>\n",
              "    <tr>\n",
              "      <th>3</th>\n",
              "      <td>33.065589</td>\n",
              "      <td>22.631531</td>\n",
              "      <td>89.248138</td>\n",
              "      <td>0.000000</td>\n",
              "      <td>57.219870</td>\n",
              "      <td>8.901955</td>\n",
              "      <td>2</td>\n",
              "    </tr>\n",
              "    <tr>\n",
              "      <th>4</th>\n",
              "      <td>34.916616</td>\n",
              "      <td>23.204315</td>\n",
              "      <td>90.980770</td>\n",
              "      <td>0.000000</td>\n",
              "      <td>56.031808</td>\n",
              "      <td>7.180614</td>\n",
              "      <td>2</td>\n",
              "    </tr>\n",
              "  </tbody>\n",
              "</table>\n",
              "</div>\n",
              "    <div class=\"colab-df-buttons\">\n",
              "\n",
              "  <div class=\"colab-df-container\">\n",
              "    <button class=\"colab-df-convert\" onclick=\"convertToInteractive('df-b0ea588c-ee79-4b3e-b57e-672ecab082d3')\"\n",
              "            title=\"Convert this dataframe to an interactive table.\"\n",
              "            style=\"display:none;\">\n",
              "\n",
              "  <svg xmlns=\"http://www.w3.org/2000/svg\" height=\"24px\" viewBox=\"0 -960 960 960\">\n",
              "    <path d=\"M120-120v-720h720v720H120Zm60-500h600v-160H180v160Zm220 220h160v-160H400v160Zm0 220h160v-160H400v160ZM180-400h160v-160H180v160Zm440 0h160v-160H620v160ZM180-180h160v-160H180v160Zm440 0h160v-160H620v160Z\"/>\n",
              "  </svg>\n",
              "    </button>\n",
              "\n",
              "  <style>\n",
              "    .colab-df-container {\n",
              "      display:flex;\n",
              "      gap: 12px;\n",
              "    }\n",
              "\n",
              "    .colab-df-convert {\n",
              "      background-color: #E8F0FE;\n",
              "      border: none;\n",
              "      border-radius: 50%;\n",
              "      cursor: pointer;\n",
              "      display: none;\n",
              "      fill: #1967D2;\n",
              "      height: 32px;\n",
              "      padding: 0 0 0 0;\n",
              "      width: 32px;\n",
              "    }\n",
              "\n",
              "    .colab-df-convert:hover {\n",
              "      background-color: #E2EBFA;\n",
              "      box-shadow: 0px 1px 2px rgba(60, 64, 67, 0.3), 0px 1px 3px 1px rgba(60, 64, 67, 0.15);\n",
              "      fill: #174EA6;\n",
              "    }\n",
              "\n",
              "    .colab-df-buttons div {\n",
              "      margin-bottom: 4px;\n",
              "    }\n",
              "\n",
              "    [theme=dark] .colab-df-convert {\n",
              "      background-color: #3B4455;\n",
              "      fill: #D2E3FC;\n",
              "    }\n",
              "\n",
              "    [theme=dark] .colab-df-convert:hover {\n",
              "      background-color: #434B5C;\n",
              "      box-shadow: 0px 1px 3px 1px rgba(0, 0, 0, 0.15);\n",
              "      filter: drop-shadow(0px 1px 2px rgba(0, 0, 0, 0.3));\n",
              "      fill: #FFFFFF;\n",
              "    }\n",
              "  </style>\n",
              "\n",
              "    <script>\n",
              "      const buttonEl =\n",
              "        document.querySelector('#df-b0ea588c-ee79-4b3e-b57e-672ecab082d3 button.colab-df-convert');\n",
              "      buttonEl.style.display =\n",
              "        google.colab.kernel.accessAllowed ? 'block' : 'none';\n",
              "\n",
              "      async function convertToInteractive(key) {\n",
              "        const element = document.querySelector('#df-b0ea588c-ee79-4b3e-b57e-672ecab082d3');\n",
              "        const dataTable =\n",
              "          await google.colab.kernel.invokeFunction('convertToInteractive',\n",
              "                                                    [key], {});\n",
              "        if (!dataTable) return;\n",
              "\n",
              "        const docLinkHtml = 'Like what you see? Visit the ' +\n",
              "          '<a target=\"_blank\" href=https://colab.research.google.com/notebooks/data_table.ipynb>data table notebook</a>'\n",
              "          + ' to learn more about interactive tables.';\n",
              "        element.innerHTML = '';\n",
              "        dataTable['output_type'] = 'display_data';\n",
              "        await google.colab.output.renderOutput(dataTable, element);\n",
              "        const docLink = document.createElement('div');\n",
              "        docLink.innerHTML = docLinkHtml;\n",
              "        element.appendChild(docLink);\n",
              "      }\n",
              "    </script>\n",
              "  </div>\n",
              "\n",
              "\n",
              "<div id=\"df-96c6454c-0393-47f9-9189-3cc91ab7b011\">\n",
              "  <button class=\"colab-df-quickchart\" onclick=\"quickchart('df-96c6454c-0393-47f9-9189-3cc91ab7b011')\"\n",
              "            title=\"Suggest charts.\"\n",
              "            style=\"display:none;\">\n",
              "\n",
              "<svg xmlns=\"http://www.w3.org/2000/svg\" height=\"24px\"viewBox=\"0 0 24 24\"\n",
              "     width=\"24px\">\n",
              "    <g>\n",
              "        <path d=\"M19 3H5c-1.1 0-2 .9-2 2v14c0 1.1.9 2 2 2h14c1.1 0 2-.9 2-2V5c0-1.1-.9-2-2-2zM9 17H7v-7h2v7zm4 0h-2V7h2v10zm4 0h-2v-4h2v4z\"/>\n",
              "    </g>\n",
              "</svg>\n",
              "  </button>\n",
              "\n",
              "<style>\n",
              "  .colab-df-quickchart {\n",
              "      --bg-color: #E8F0FE;\n",
              "      --fill-color: #1967D2;\n",
              "      --hover-bg-color: #E2EBFA;\n",
              "      --hover-fill-color: #174EA6;\n",
              "      --disabled-fill-color: #AAA;\n",
              "      --disabled-bg-color: #DDD;\n",
              "  }\n",
              "\n",
              "  [theme=dark] .colab-df-quickchart {\n",
              "      --bg-color: #3B4455;\n",
              "      --fill-color: #D2E3FC;\n",
              "      --hover-bg-color: #434B5C;\n",
              "      --hover-fill-color: #FFFFFF;\n",
              "      --disabled-bg-color: #3B4455;\n",
              "      --disabled-fill-color: #666;\n",
              "  }\n",
              "\n",
              "  .colab-df-quickchart {\n",
              "    background-color: var(--bg-color);\n",
              "    border: none;\n",
              "    border-radius: 50%;\n",
              "    cursor: pointer;\n",
              "    display: none;\n",
              "    fill: var(--fill-color);\n",
              "    height: 32px;\n",
              "    padding: 0;\n",
              "    width: 32px;\n",
              "  }\n",
              "\n",
              "  .colab-df-quickchart:hover {\n",
              "    background-color: var(--hover-bg-color);\n",
              "    box-shadow: 0 1px 2px rgba(60, 64, 67, 0.3), 0 1px 3px 1px rgba(60, 64, 67, 0.15);\n",
              "    fill: var(--button-hover-fill-color);\n",
              "  }\n",
              "\n",
              "  .colab-df-quickchart-complete:disabled,\n",
              "  .colab-df-quickchart-complete:disabled:hover {\n",
              "    background-color: var(--disabled-bg-color);\n",
              "    fill: var(--disabled-fill-color);\n",
              "    box-shadow: none;\n",
              "  }\n",
              "\n",
              "  .colab-df-spinner {\n",
              "    border: 2px solid var(--fill-color);\n",
              "    border-color: transparent;\n",
              "    border-bottom-color: var(--fill-color);\n",
              "    animation:\n",
              "      spin 1s steps(1) infinite;\n",
              "  }\n",
              "\n",
              "  @keyframes spin {\n",
              "    0% {\n",
              "      border-color: transparent;\n",
              "      border-bottom-color: var(--fill-color);\n",
              "      border-left-color: var(--fill-color);\n",
              "    }\n",
              "    20% {\n",
              "      border-color: transparent;\n",
              "      border-left-color: var(--fill-color);\n",
              "      border-top-color: var(--fill-color);\n",
              "    }\n",
              "    30% {\n",
              "      border-color: transparent;\n",
              "      border-left-color: var(--fill-color);\n",
              "      border-top-color: var(--fill-color);\n",
              "      border-right-color: var(--fill-color);\n",
              "    }\n",
              "    40% {\n",
              "      border-color: transparent;\n",
              "      border-right-color: var(--fill-color);\n",
              "      border-top-color: var(--fill-color);\n",
              "    }\n",
              "    60% {\n",
              "      border-color: transparent;\n",
              "      border-right-color: var(--fill-color);\n",
              "    }\n",
              "    80% {\n",
              "      border-color: transparent;\n",
              "      border-right-color: var(--fill-color);\n",
              "      border-bottom-color: var(--fill-color);\n",
              "    }\n",
              "    90% {\n",
              "      border-color: transparent;\n",
              "      border-bottom-color: var(--fill-color);\n",
              "    }\n",
              "  }\n",
              "</style>\n",
              "\n",
              "  <script>\n",
              "    async function quickchart(key) {\n",
              "      const quickchartButtonEl =\n",
              "        document.querySelector('#' + key + ' button');\n",
              "      quickchartButtonEl.disabled = true;  // To prevent multiple clicks.\n",
              "      quickchartButtonEl.classList.add('colab-df-spinner');\n",
              "      try {\n",
              "        const charts = await google.colab.kernel.invokeFunction(\n",
              "            'suggestCharts', [key], {});\n",
              "      } catch (error) {\n",
              "        console.error('Error during call to suggestCharts:', error);\n",
              "      }\n",
              "      quickchartButtonEl.classList.remove('colab-df-spinner');\n",
              "      quickchartButtonEl.classList.add('colab-df-quickchart-complete');\n",
              "    }\n",
              "    (() => {\n",
              "      let quickchartButtonEl =\n",
              "        document.querySelector('#df-96c6454c-0393-47f9-9189-3cc91ab7b011 button');\n",
              "      quickchartButtonEl.style.display =\n",
              "        google.colab.kernel.accessAllowed ? 'block' : 'none';\n",
              "    })();\n",
              "  </script>\n",
              "</div>\n",
              "    </div>\n",
              "  </div>\n"
            ]
          },
          "metadata": {},
          "execution_count": 3
        }
      ],
      "source": [
        "data.head()"
      ]
    },
    {
      "cell_type": "code",
      "execution_count": null,
      "metadata": {
        "id": "lvdJBZ1Z9Ku_",
        "colab": {
          "base_uri": "https://localhost:8080/"
        },
        "outputId": "5a41a313-549d-4566-dda1-15ff2cd13288"
      },
      "outputs": [
        {
          "output_type": "execute_result",
          "data": {
            "text/plain": [
              "Tmax     float64\n",
              "Tmin     float64\n",
              "RHI      float64\n",
              "RF       float64\n",
              "RHII     float64\n",
              "SSH      float64\n",
              "label      int64\n",
              "dtype: object"
            ]
          },
          "metadata": {},
          "execution_count": 4
        }
      ],
      "source": [
        "data.dtypes"
      ]
    },
    {
      "cell_type": "code",
      "execution_count": null,
      "metadata": {
        "id": "PbQ68t2N-c1s",
        "colab": {
          "base_uri": "https://localhost:8080/"
        },
        "outputId": "c6ed2403-8f56-493b-f163-97a5b97ba5c1"
      },
      "outputs": [
        {
          "output_type": "execute_result",
          "data": {
            "text/plain": [
              "70000"
            ]
          },
          "metadata": {},
          "execution_count": 5
        }
      ],
      "source": [
        "data.size\n"
      ]
    },
    {
      "cell_type": "code",
      "execution_count": null,
      "metadata": {
        "id": "Mwx5nPBc-fG3"
      },
      "outputs": [],
      "source": [
        "df = pd.DataFrame(data)"
      ]
    },
    {
      "cell_type": "code",
      "execution_count": null,
      "metadata": {
        "id": "HL2Nd3UYsp7N",
        "colab": {
          "base_uri": "https://localhost:8080/"
        },
        "outputId": "fec450d5-9e05-4a52-8e93-cd1228d942b7"
      },
      "outputs": [
        {
          "output_type": "stream",
          "name": "stdout",
          "text": [
            "<class 'pandas.core.frame.DataFrame'>\n",
            "RangeIndex: 10000 entries, 0 to 9999\n",
            "Data columns (total 7 columns):\n",
            " #   Column  Non-Null Count  Dtype  \n",
            "---  ------  --------------  -----  \n",
            " 0   Tmax    10000 non-null  float64\n",
            " 1   Tmin    10000 non-null  float64\n",
            " 2   RHI     10000 non-null  float64\n",
            " 3   RF      10000 non-null  float64\n",
            " 4   RHII    10000 non-null  float64\n",
            " 5   SSH     10000 non-null  float64\n",
            " 6   label   10000 non-null  int64  \n",
            "dtypes: float64(6), int64(1)\n",
            "memory usage: 547.0 KB\n"
          ]
        }
      ],
      "source": [
        "df.info()"
      ]
    },
    {
      "cell_type": "code",
      "source": [
        "df = df.drop(labels=None, axis=0, index=None, columns=[\"RHII\"], level=None, inplace=False, errors='raise')"
      ],
      "metadata": {
        "id": "4lzxaRvDBcRJ"
      },
      "execution_count": null,
      "outputs": []
    },
    {
      "cell_type": "code",
      "source": [
        "df.info()"
      ],
      "metadata": {
        "id": "XRZIXxwXCvHj",
        "outputId": "95b213bc-41c2-49c5-d86e-2ff7ff2cfb09",
        "colab": {
          "base_uri": "https://localhost:8080/"
        }
      },
      "execution_count": null,
      "outputs": [
        {
          "output_type": "stream",
          "name": "stdout",
          "text": [
            "<class 'pandas.core.frame.DataFrame'>\n",
            "RangeIndex: 10000 entries, 0 to 9999\n",
            "Data columns (total 6 columns):\n",
            " #   Column  Non-Null Count  Dtype  \n",
            "---  ------  --------------  -----  \n",
            " 0   Tmax    10000 non-null  float64\n",
            " 1   Tmin    10000 non-null  float64\n",
            " 2   RHI     10000 non-null  float64\n",
            " 3   RF      10000 non-null  float64\n",
            " 4   SSH     10000 non-null  float64\n",
            " 5   label   10000 non-null  int64  \n",
            "dtypes: float64(5), int64(1)\n",
            "memory usage: 468.9 KB\n"
          ]
        }
      ]
    },
    {
      "cell_type": "code",
      "source": [
        "df['label'].unique()"
      ],
      "metadata": {
        "colab": {
          "base_uri": "https://localhost:8080/"
        },
        "id": "n3v0gEjvtRYE",
        "outputId": "fb85f529-07a4-4774-b801-7ae36840f691"
      },
      "execution_count": null,
      "outputs": [
        {
          "output_type": "execute_result",
          "data": {
            "text/plain": [
              "array([5, 1, 3, 2, 4])"
            ]
          },
          "metadata": {},
          "execution_count": 23
        }
      ]
    },
    {
      "cell_type": "code",
      "source": [
        "df['label'].value_counts()"
      ],
      "metadata": {
        "colab": {
          "base_uri": "https://localhost:8080/"
        },
        "id": "-A3cP9EZtXuI",
        "outputId": "a66d7614-cbb4-4311-abd3-d39ee61eee80"
      },
      "execution_count": null,
      "outputs": [
        {
          "output_type": "execute_result",
          "data": {
            "text/plain": [
              "2    2066\n",
              "3    2064\n",
              "4    1997\n",
              "1    1946\n",
              "5    1927\n",
              "Name: label, dtype: int64"
            ]
          },
          "metadata": {},
          "execution_count": 24
        }
      ]
    },
    {
      "cell_type": "code",
      "source": [
        "sns.heatmap(df.corr(),annot=True)"
      ],
      "metadata": {
        "colab": {
          "base_uri": "https://localhost:8080/",
          "height": 452
        },
        "id": "TJ4T4ND0tgVo",
        "outputId": "1619abde-3972-4871-a0c5-ff67d22cae52"
      },
      "execution_count": null,
      "outputs": [
        {
          "output_type": "execute_result",
          "data": {
            "text/plain": [
              "<Axes: >"
            ]
          },
          "metadata": {},
          "execution_count": 25
        },
        {
          "output_type": "display_data",
          "data": {
            "text/plain": [
              "<Figure size 640x480 with 2 Axes>"
            ],
            "image/png": "[encoded data removed]"
          },
          "metadata": {}
        }
      ]
    },
    {
      "cell_type": "code",
      "execution_count": null,
      "metadata": {
        "id": "YgmG7Fc2mdW4"
      },
      "outputs": [],
      "source": [
        "X= df.values[:,0:5]\n",
        "Y=  df.values[:,5]"
      ]
    },
    {
      "cell_type": "code",
      "execution_count": null,
      "metadata": {
        "id": "zvrxGqwjDItP"
      },
      "outputs": [],
      "source": [
        "X_train, X_test, y_train, y_test = train_test_split(X, Y, test_size = 0.1, random_state = 100)"
      ]
    },
    {
      "cell_type": "code",
      "source": [
        "Accuracies=[]"
      ],
      "metadata": {
        "id": "kh5aB_Py4C2_"
      },
      "execution_count": null,
      "outputs": []
    },
    {
      "cell_type": "code",
      "execution_count": null,
      "metadata": {
        "id": "S7d-Awc-9Y3B",
        "colab": {
          "base_uri": "https://localhost:8080/"
        },
        "outputId": "a51b4a54-4772-4cb9-9dc3-9ae531a0435f"
      },
      "outputs": [
        {
          "output_type": "stream",
          "name": "stdout",
          "text": [
            "              precision    recall  f1-score   support\n",
            "\n",
            "         1.0       0.94      0.93      0.94       218\n",
            "         2.0       0.82      0.97      0.89       206\n",
            "         3.0       0.97      0.82      0.89       231\n",
            "         4.0       1.00      1.00      1.00       170\n",
            "         5.0       0.99      1.00      0.99       175\n",
            "\n",
            "    accuracy                           0.94      1000\n",
            "   macro avg       0.94      0.94      0.94      1000\n",
            "weighted avg       0.94      0.94      0.94      1000\n",
            "\n"
          ]
        }
      ],
      "source": [
        "\n",
        "##Logistic Regression\n",
        "logreg = LogisticRegression(penalty='l2', C=1.0, solver='liblinear', random_state=42)\n",
        "logreg.fit(X_train,y_train)\n",
        "y_pred= logreg.predict(X_test)\n",
        "accuray=accuracy_score(y_test,y_pred)\n",
        "Accuracies.append(accuray)\n",
        "\n",
        "print(classification_report(y_test, y_pred))"
      ]
    },
    {
      "cell_type": "code",
      "execution_count": null,
      "metadata": {
        "id": "uBhOEu2oBeXu",
        "colab": {
          "base_uri": "https://localhost:8080/"
        },
        "outputId": "733a3ff4-4bce-470f-9af0-0f9cf4406218"
      },
      "outputs": [
        {
          "output_type": "stream",
          "name": "stdout",
          "text": [
            "              precision    recall  f1-score   support\n",
            "\n",
            "         1.0       0.86      0.88      0.87       218\n",
            "         2.0       0.89      0.90      0.89       206\n",
            "         3.0       0.94      0.86      0.90       231\n",
            "         4.0       0.77      0.82      0.80       170\n",
            "         5.0       1.00      1.00      1.00       175\n",
            "\n",
            "    accuracy                           0.89      1000\n",
            "   macro avg       0.89      0.89      0.89      1000\n",
            "weighted avg       0.89      0.89      0.89      1000\n",
            "\n"
          ]
        }
      ],
      "source": [
        "##Random Forest\n",
        "randomForest = RandomForestClassifier(n_estimators = 100)\n",
        "randomForest.fit(X_train,y_train)\n",
        "predRandomForest_Y=randomForest.predict(X_test)\n",
        "accuracy=accuracy_score(y_test,predRandomForest_Y)\n",
        "Accuracies.append(accuracy)\n",
        "print(classification_report(y_test, predRandomForest_Y))"
      ]
    },
    {
      "cell_type": "code",
      "source": [
        "sensor_data=[100,20,3,4,6,3]\n",
        "prediction = randomForest.predict(\n",
        "        sensor_data)"
      ],
      "metadata": {
        "id": "bFaJnIbwvYs-"
      },
      "execution_count": null,
      "outputs": []
    },
    {
      "cell_type": "code",
      "execution_count": null,
      "metadata": {
        "id": "i3ur75hAEr8N",
        "colab": {
          "base_uri": "https://localhost:8080/"
        },
        "outputId": "fbdea9e6-1449-43a9-8c3e-8d483bc0cd96"
      },
      "outputs": [
        {
          "output_type": "stream",
          "name": "stdout",
          "text": [
            "              precision    recall  f1-score   support\n",
            "\n",
            "         1.0       0.94      0.95      0.95       218\n",
            "         2.0       0.91      0.97      0.94       206\n",
            "         3.0       1.00      0.93      0.96       231\n",
            "         4.0       1.00      1.00      1.00       170\n",
            "         5.0       1.00      1.00      1.00       175\n",
            "\n",
            "    accuracy                           0.97      1000\n",
            "   macro avg       0.97      0.97      0.97      1000\n",
            "weighted avg       0.97      0.97      0.97      1000\n",
            "\n"
          ]
        }
      ],
      "source": [
        "##Gaussion Navie Bayes\n",
        "gnb = GaussianNB()\n",
        "gnb.fit(X_train, y_train)\n",
        "gnbPred_Y=gnb.predict(X_test)\n",
        "accuracy=accuracy_score(y_test,gnbPred_Y)\n",
        "Accuracies.append(accuracy)\n",
        "print(classification_report(y_test, gnbPred_Y))"
      ]
    },
    {
      "cell_type": "code",
      "source": [
        "##Gradient Boosting\n",
        "gbm = GradientBoostingClassifier()\n",
        "gbm.fit(X_train, y_train)\n",
        "gbmPred_Y=gbm.predict(X_test)\n",
        "accuracy=accuracy_score(y_test,gbmPred_Y)\n",
        "Accuracies.append(accuracy)\n",
        "print(classification_report(y_test, gbmPred_Y))"
      ],
      "metadata": {
        "id": "7kz-YITZ1Tsq",
        "outputId": "f1f13736-c59d-4c92-b83c-cf2309f822a0",
        "colab": {
          "base_uri": "https://localhost:8080/"
        }
      },
      "execution_count": null,
      "outputs": [
        {
          "output_type": "stream",
          "name": "stdout",
          "text": [
            "              precision    recall  f1-score   support\n",
            "\n",
            "         1.0       0.97      0.96      0.97       218\n",
            "         2.0       0.93      0.98      0.95       206\n",
            "         3.0       0.99      0.97      0.98       231\n",
            "         4.0       1.00      1.00      1.00       170\n",
            "         5.0       1.00      1.00      1.00       175\n",
            "\n",
            "    accuracy                           0.98      1000\n",
            "   macro avg       0.98      0.98      0.98      1000\n",
            "weighted avg       0.98      0.98      0.98      1000\n",
            "\n"
          ]
        }
      ]
    },
    {
      "cell_type": "code",
      "source": [
        "##SMO\n",
        "smo = SVC(kernel='linear', C=1.0)\n",
        "smo.fit(X_train, y_train)\n",
        "smoPred_Y=smo.predict(X_test)\n",
        "accuracy=accuracy_score(y_test,smoPred_Y)\n",
        "Accuracies.append(accuracy)\n",
        "print(classification_report(y_test, smoPred_Y))"
      ],
      "metadata": {
        "id": "DkIIjQ1S1nZb",
        "outputId": "eaf7b140-78ed-4d4d-8415-3d958f172009",
        "colab": {
          "base_uri": "https://localhost:8080/"
        }
      },
      "execution_count": null,
      "outputs": [
        {
          "output_type": "stream",
          "name": "stdout",
          "text": [
            "              precision    recall  f1-score   support\n",
            "\n",
            "         1.0       0.95      0.94      0.94       218\n",
            "         2.0       0.93      0.95      0.94       206\n",
            "         3.0       0.98      0.97      0.97       231\n",
            "         4.0       1.00      1.00      1.00       170\n",
            "         5.0       1.00      1.00      1.00       175\n",
            "\n",
            "    accuracy                           0.97      1000\n",
            "   macro avg       0.97      0.97      0.97      1000\n",
            "weighted avg       0.97      0.97      0.97      1000\n",
            "\n"
          ]
        }
      ]
    },
    {
      "cell_type": "code",
      "source": [
        "import numpy as np\n",
        "import matplotlib.pyplot as plt\n",
        "\n",
        "models=['Logistic Regression','Random Forest','Guassion Navie Bayes','Gradient Boosting','SMO']\n",
        "# creating the dataset\n",
        "\n",
        "fig = plt.figure(figsize = (6,6))\n",
        "\n",
        "# creating the bar plot\n",
        "\n",
        "scaled_list = [x *100 for x in Accuracies]\n",
        "plt.bar(models,scaled_list,  color ='maroon',\n",
        "        width = 0.4)\n",
        "\n",
        "plt.xlabel('Machine Learning Models')\n",
        "plt.ylabel('Accuracy')\n",
        "plt.title('Accuracy Comparison of Different Models')\n",
        "plt.xticks(models, rotation=45)\n",
        "for i in range(len(models)):\n",
        "    plt.text(models[i], scaled_list[i], str(scaled_list[i]), ha='center', va='bottom')\n",
        "plt.show()\n"
      ],
      "metadata": {
        "id": "ruhm7p__hw1S",
        "outputId": "23753da2-0f7c-4a1b-9ebb-b5b95d8c7c56",
        "colab": {
          "base_uri": "https://localhost:8080/",
          "height": 669
        }
      },
      "execution_count": null,
      "outputs": [
        {
          "output_type": "display_data",
          "data": {
            "text/plain": [
              "<Figure size 600x600 with 1 Axes>"
            ],
            "image/png": "[encoded data removed]"
          },
          "metadata": {}
        }
      ]
    },
    {
      "cell_type": "code",
      "source": [
        "k = 10  # Number of folds\n",
        "cross_val_scores = cross_val_score(gbm, X, Y, cv=k)\n",
        "average_cross_val_score = np.mean(cross_val_scores)\n",
        "print(f\"Average Cross-Validation Accuracy (k={k}): {average_cross_val_score:.2f}\")"
      ],
      "metadata": {
        "colab": {
          "base_uri": "https://localhost:8080/"
        },
        "id": "Jvq99W1gJ554",
        "outputId": "19c7463e-c002-4895-8ce6-e65d7ad5ccf1"
      },
      "execution_count": null,
      "outputs": [
        {
          "output_type": "stream",
          "name": "stdout",
          "text": [
            "Average Cross-Validation Accuracy (k=10): 0.98\n"
          ]
        }
      ]
    },
    {
      "cell_type": "code",
      "source": [
        "pickle.dump(randomForest , open('randomForestFinal.pkl' , 'wb'))"
      ],
      "metadata": {
        "id": "vejxxh4xC71i"
      },
      "execution_count": null,
      "outputs": []
    },
    {
      "cell_type": "code",
      "source": [],
      "metadata": {
        "id": "gJI3q8xVDXiY"
      },
      "execution_count": null,
      "outputs": []
    }
  ],
  "metadata": {
    "colab": {
      "provenance": [],
      "include_colab_link": true
    },
    "kernelspec": {
      "display_name": "Python 3",
      "name": "python3"
    },
    "language_info": {
      "name": "python"
    }
  },
  "nbformat": 4,
  "nbformat_minor": 0
}